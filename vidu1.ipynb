{
 "cells": [
  {
   "cell_type": "code",
   "execution_count": 6,
   "id": "d885e27f",
   "metadata": {},
   "outputs": [
    {
     "name": "stdout",
     "output_type": "stream",
     "text": [
      "Model: \"sequential\"\n",
      "_________________________________________________________________\n",
      "Layer (type)                 Output Shape              Param #   \n",
      "=================================================================\n",
      "conv2d (Conv2D)              (None, 32, 32, 64)        1792      \n",
      "=================================================================\n",
      "Total params: 1,792\n",
      "Trainable params: 1,792\n",
      "Non-trainable params: 0\n",
      "_________________________________________________________________\n"
     ]
    }
   ],
   "source": [
    "# example of downsampling with strided convolutions\n",
    "import tensorflow as tf\n",
    "from tensorflow.keras.models import Sequential\n",
    "from tensorflow.keras.layers import Conv2D\n",
    "# define model\n",
    "model = Sequential()\n",
    "model.add(Conv2D(64, (3,3), strides=(2,2), padding=\"same\", input_shape=(64,64,3)))\n",
    "# summarize model\n",
    "model.summary()"
   ]
  },
  {
   "cell_type": "code",
   "execution_count": 8,
   "id": "dd500583",
   "metadata": {},
   "outputs": [
    {
     "name": "stdout",
     "output_type": "stream",
     "text": [
      "Model: \"sequential_1\"\n",
      "_________________________________________________________________\n",
      "Layer (type)                 Output Shape              Param #   \n",
      "=================================================================\n",
      "conv2d_transpose (Conv2DTran (None, 128, 128, 64)      3136      \n",
      "=================================================================\n",
      "Total params: 3,136\n",
      "Trainable params: 3,136\n",
      "Non-trainable params: 0\n",
      "_________________________________________________________________\n"
     ]
    }
   ],
   "source": [
    "# example of upsampling with strided convolutions\n",
    "import tensorflow as tf\n",
    "from tensorflow.keras.models import Sequential\n",
    "from tensorflow.keras.layers import Conv2DTranspose\n",
    "# define model\n",
    "model2 = Sequential()\n",
    "model2.add(Conv2DTranspose(64, (4,4), strides=(2,2), padding=\"same\", input_shape=(64,64,3)))\n",
    "# summarize model\n",
    "model2.summary()\n"
   ]
  },
  {
   "cell_type": "code",
   "execution_count": 9,
   "id": "cdba9fd6",
   "metadata": {},
   "outputs": [
    {
     "name": "stdout",
     "output_type": "stream",
     "text": [
      "Model: \"sequential_2\"\n",
      "_________________________________________________________________\n",
      "Layer (type)                 Output Shape              Param #   \n",
      "=================================================================\n",
      "conv2d_1 (Conv2D)            (None, 32, 32, 64)        1792      \n",
      "_________________________________________________________________\n",
      "leaky_re_lu (LeakyReLU)      (None, 32, 32, 64)        0         \n",
      "=================================================================\n",
      "Total params: 1,792\n",
      "Trainable params: 1,792\n",
      "Non-trainable params: 0\n",
      "_________________________________________________________________\n"
     ]
    }
   ],
   "source": [
    "# example of using leakyrelu in a discriminator model\n",
    "import tensorflow as tf\n",
    "from tensorflow.keras.models import Sequential\n",
    "from tensorflow.keras.layers import Conv2D\n",
    "from tensorflow.keras.layers import LeakyReLU\n",
    "# define model\n",
    "model3 = Sequential()\n",
    "model3.add(Conv2D(64, (3,3), strides=(2,2), padding=\"same\", input_shape=(64,64,3)))\n",
    "model3.add(LeakyReLU(0.2))\n",
    "# summarize model\n",
    "model3.summary()"
   ]
  },
  {
   "cell_type": "code",
   "execution_count": 10,
   "id": "22b6533b",
   "metadata": {},
   "outputs": [
    {
     "name": "stdout",
     "output_type": "stream",
     "text": [
      "Model: \"sequential_3\"\n",
      "_________________________________________________________________\n",
      "Layer (type)                 Output Shape              Param #   \n",
      "=================================================================\n",
      "conv2d_2 (Conv2D)            (None, 32, 32, 64)        1792      \n",
      "_________________________________________________________________\n",
      "batch_normalization (BatchNo (None, 32, 32, 64)        256       \n",
      "=================================================================\n",
      "Total params: 2,048\n",
      "Trainable params: 1,920\n",
      "Non-trainable params: 128\n",
      "_________________________________________________________________\n"
     ]
    }
   ],
   "source": [
    "# example of using batch norm in a discriminator model\n",
    "import tensorflow as tf\n",
    "from tensorflow.keras.models import Sequential\n",
    "from tensorflow.keras.layers import Conv2D\n",
    "from tensorflow.keras.layers import BatchNormalization\n",
    "from tensorflow.keras.layers import LeakyReLU\n",
    "# define model\n",
    "model4 = Sequential()\n",
    "model4.add(Conv2D(64, (3,3), strides=(2,2), padding=\"same\", input_shape=(64,64,3)))\n",
    "model4.add(BatchNormalization())\n",
    "model.add(LeakyReLU(0.2))\n",
    "# summarize model\n",
    "model4.summary()\n"
   ]
  },
  {
   "cell_type": "code",
   "execution_count": 11,
   "id": "73569eea",
   "metadata": {},
   "outputs": [
    {
     "name": "stdout",
     "output_type": "stream",
     "text": [
      "Model: \"sequential_4\"\n",
      "_________________________________________________________________\n",
      "Layer (type)                 Output Shape              Param #   \n",
      "=================================================================\n",
      "conv2d_transpose_1 (Conv2DTr (None, 128, 128, 64)      3136      \n",
      "=================================================================\n",
      "Total params: 3,136\n",
      "Trainable params: 3,136\n",
      "Non-trainable params: 0\n",
      "_________________________________________________________________\n"
     ]
    }
   ],
   "source": [
    "# example of gaussian weight initialization in a generator model\n",
    "import tensorflow as tf\n",
    "from tensorflow.keras.models import Sequential\n",
    "from tensorflow.keras.layers import Conv2DTranspose\n",
    "from tensorflow.keras.initializers import RandomNormal\n",
    "# define model\n",
    "model5 = Sequential()\n",
    "init = RandomNormal(mean=0.0, stddev=0.02)\n",
    "model5.add(Conv2DTranspose(64, (4,4), strides=(2,2), padding=\"same\",\n",
    "kernel_initializer=init, input_shape=(64,64,3)))\n",
    "model5.summary()\n"
   ]
  },
  {
   "cell_type": "code",
   "execution_count": 12,
   "id": "3bd6dd53",
   "metadata": {},
   "outputs": [
    {
     "name": "stdout",
     "output_type": "stream",
     "text": [
      "Model: \"sequential_5\"\n",
      "_________________________________________________________________\n",
      "Layer (type)                 Output Shape              Param #   \n",
      "=================================================================\n",
      "conv2d_3 (Conv2D)            (None, 32, 32, 64)        1792      \n",
      "=================================================================\n",
      "Total params: 1,792\n",
      "Trainable params: 1,792\n",
      "Non-trainable params: 0\n",
      "_________________________________________________________________\n"
     ]
    }
   ],
   "source": [
    "# example of using adam when training a discriminator model\n",
    "import tensorflow as tf\n",
    "from  tensorflow.keras.models import Sequential\n",
    "from  tensorflow.keras.layers import Conv2D\n",
    "from  tensorflow.keras.optimizers import Adam\n",
    "# define model\n",
    "model6 = Sequential()\n",
    "model6.add(Conv2D(64, (3,3), strides=(2,2), padding=\"same\", input_shape=(64,64,3)))\n",
    "model6.summary()\n",
    "# compile model\n",
    "opt = Adam(lr=0.0002, beta_1=0.5)\n",
    "model6.compile(loss=\"binary_crossentropy\", optimizer=opt, metrics=[\"accuracy\"])\n"
   ]
  },
  {
   "cell_type": "code",
   "execution_count": 21,
   "id": "19e04cf8",
   "metadata": {},
   "outputs": [
    {
     "name": "stdout",
     "output_type": "stream",
     "text": [
      "0 255\n",
      "-1.0 1.0\n"
     ]
    }
   ],
   "source": [
    "# example of a function for scaling images\n",
    "from numpy.random import randint\n",
    "# scale image data from [0,255] to [-1,1]\n",
    "def scale_images(images):\n",
    "# convert from unit8 to float32\n",
    " images = images.astype('float32')\n",
    "# scale from [0,255] to [-1,1]\n",
    " images = (images - 127.5) / 127.5\n",
    " return images\n",
    "# define one 28x28 color image\n",
    "images = randint(0, 256, 28 * 28 * 3)\n",
    "images = images.reshape((1, 28, 28, 3))\n",
    "# summarize pixel values\n",
    "print(images.min(), images.max())\n",
    "# scale\n",
    "scaled = scale_images(images)\n",
    "# summarize pixel scaled values\n",
    "print(scaled.min(), scaled.max())"
   ]
  },
  {
   "cell_type": "code",
   "execution_count": 24,
   "id": "a458b3df",
   "metadata": {},
   "outputs": [
    {
     "name": "stdout",
     "output_type": "stream",
     "text": [
      "(500, 100) 0.0014782246391766404 0.9992338769143176\n"
     ]
    }
   ],
   "source": [
    "# example of sampling from a gaussian latent space\n",
    "from numpy.random import randn\n",
    "# generate points in latent space as input for the generator\n",
    "def generate_latent_points(latent_dim, n_samples):\n",
    "# generate points in the latent space\n",
    " x_input = randn(latent_dim * n_samples)\n",
    "# reshape into a batch of inputs for the network\n",
    " x_input = x_input.reshape((n_samples, latent_dim))\n",
    " return x_input\n",
    "# size of latent space\n",
    "n_dim = 100\n",
    "# number of samples to generate\n",
    "n_samples = 500\n",
    "# generate samples\n",
    "samples = generate_latent_points(n_dim, n_samples)\n",
    "# summarize\n",
    "print(samples.shape, samples.mean(), samples.std())"
   ]
  },
  {
   "cell_type": "code",
   "execution_count": 23,
   "id": "1c119742",
   "metadata": {},
   "outputs": [
    {
     "ename": "TypeError",
     "evalue": "cannot unpack non-iterable ellipsis object",
     "output_type": "error",
     "traceback": [
      "\u001b[1;31m---------------------------------------------------------------------------\u001b[0m",
      "\u001b[1;31mTypeError\u001b[0m                                 Traceback (most recent call last)",
      "\u001b[1;32m<ipython-input-23-aba4de06339f>\u001b[0m in \u001b[0;36m<module>\u001b[1;34m\u001b[0m\n\u001b[0;32m      1\u001b[0m \u001b[1;31m# get randomly selected ✬real✬ samples\u001b[0m\u001b[1;33m\u001b[0m\u001b[1;33m\u001b[0m\u001b[1;33m\u001b[0m\u001b[0m\n\u001b[1;32m----> 2\u001b[1;33m \u001b[0mX_real\u001b[0m\u001b[1;33m,\u001b[0m \u001b[0my_real\u001b[0m \u001b[1;33m=\u001b[0m \u001b[1;33m...\u001b[0m\u001b[1;33m\u001b[0m\u001b[1;33m\u001b[0m\u001b[0m\n\u001b[0m\u001b[0;32m      3\u001b[0m \u001b[1;31m# update discriminator model weights\u001b[0m\u001b[1;33m\u001b[0m\u001b[1;33m\u001b[0m\u001b[1;33m\u001b[0m\u001b[0m\n\u001b[0;32m      4\u001b[0m \u001b[0mdiscriminator\u001b[0m\u001b[1;33m.\u001b[0m\u001b[0mtrain_on_batch\u001b[0m\u001b[1;33m(\u001b[0m\u001b[0mX_real\u001b[0m\u001b[1;33m,\u001b[0m \u001b[0my_real\u001b[0m\u001b[1;33m)\u001b[0m\u001b[1;33m\u001b[0m\u001b[1;33m\u001b[0m\u001b[0m\n\u001b[0;32m      5\u001b[0m \u001b[1;31m# generate ✬fake✬ examples\u001b[0m\u001b[1;33m\u001b[0m\u001b[1;33m\u001b[0m\u001b[1;33m\u001b[0m\u001b[0m\n",
      "\u001b[1;31mTypeError\u001b[0m: cannot unpack non-iterable ellipsis object"
     ]
    }
   ],
   "source": [
    "# get randomly selected ✬real✬ samples\n",
    "X_real, y_real = ...\n",
    "# update discriminator model weights\n",
    "discriminator.train_on_batch(X_real, y_real)\n",
    "# generate ✬fake✬ examples\n",
    "X_fake, y_fake = ...\n",
    "# update discriminator model weights\n",
    "discriminator.train_on_batch(X_fake, y_fake)"
   ]
  },
  {
   "cell_type": "code",
   "execution_count": 26,
   "id": "bc2602dc",
   "metadata": {},
   "outputs": [
    {
     "name": "stdout",
     "output_type": "stream",
     "text": [
      "(1000, 1) 0.7001163102445889 1.1989419162217994\n"
     ]
    }
   ],
   "source": [
    "# example of positive label smoothing\n",
    "from numpy import ones\n",
    "from numpy.random import random\n",
    "# example of smoothing class=1 to [0.7, 1.2]\n",
    "def smooth_positive_labels(y):\n",
    " return y - 0.3 + (random(y.shape) * 0.5)\n",
    "# generate ✬real✬ class labels (1)\n",
    "n_samples = 1000\n",
    "y = ones((n_samples, 1))\n",
    "# smooth labels\n",
    "y = smooth_positive_labels(y)\n",
    "# summarize smooth labels\n",
    "print(y.shape, y.min(), y.max())"
   ]
  },
  {
   "cell_type": "code",
   "execution_count": 27,
   "id": "270ecd77",
   "metadata": {},
   "outputs": [
    {
     "name": "stdout",
     "output_type": "stream",
     "text": [
      "(1000, 1) 0.00011868165405863883 0.2999431588395623\n"
     ]
    }
   ],
   "source": [
    "# example of negative label smoothing\n",
    "from numpy import zeros\n",
    "from numpy.random import random\n",
    "# example of smoothing class=0 to [0.0, 0.3]\n",
    "def smooth_negative_labels(y):\n",
    " return y + random(y.shape) * 0.3\n",
    "# generate ✬fake✬ class labels (0)\n",
    "n_samples = 1000\n",
    "y = zeros((n_samples, 1))\n",
    "# smooth labels\n",
    "y = smooth_negative_labels(y)\n",
    "# summarize smooth labels\n",
    "print(y.shape, y.min(), y.max())"
   ]
  },
  {
   "cell_type": "code",
   "execution_count": 29,
   "id": "a335d5b9",
   "metadata": {},
   "outputs": [
    {
     "name": "stdout",
     "output_type": "stream",
     "text": [
      "952.0\n",
      "50.0\n"
     ]
    }
   ],
   "source": [
    "# example of noisy labels\n",
    "from numpy import ones\n",
    "from numpy import zeros\n",
    "from numpy.random import choice\n",
    "# randomly flip some labels\n",
    "def noisy_labels(y, p_flip):\n",
    "# determine the number of labels to flip\n",
    " n_select = int(p_flip * y.shape[0])\n",
    "# choose labels to flip\n",
    " flip_ix = choice([i for i in range(y.shape[0])], size=n_select)\n",
    "# invert the labels in place\n",
    " y[flip_ix] = 1 - y[flip_ix]\n",
    " return y\n",
    "# generate ✬real✬ class labels (1)\n",
    "n_samples = 1000\n",
    "y = ones((n_samples, 1))\n",
    "# flip labels with 5% probability\n",
    "y = noisy_labels(y, 0.05)\n",
    "# summarize labels\n",
    "print(y.sum())\n",
    "# generate ✬fake✬ class labels (0)\n",
    "y = zeros((n_samples, 1))\n",
    "# flip labels with 5% probability\n",
    "y = noisy_labels(y, 0.05)\n",
    "# summarize labels\n",
    "print(y.sum())"
   ]
  },
  {
   "cell_type": "code",
   "execution_count": null,
   "id": "ca9b5caa",
   "metadata": {},
   "outputs": [],
   "source": []
  }
 ],
 "metadata": {
  "kernelspec": {
   "display_name": "Python 3",
   "language": "python",
   "name": "python3"
  },
  "language_info": {
   "codemirror_mode": {
    "name": "ipython",
    "version": 3
   },
   "file_extension": ".py",
   "mimetype": "text/x-python",
   "name": "python",
   "nbconvert_exporter": "python",
   "pygments_lexer": "ipython3",
   "version": "3.8.8"
  }
 },
 "nbformat": 4,
 "nbformat_minor": 5
}
